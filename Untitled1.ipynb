{
  "nbformat": 4,
  "nbformat_minor": 0,
  "metadata": {
    "colab": {
      "name": "Untitled1.ipynb",
      "provenance": [],
      "authorship_tag": "ABX9TyMQmg4kvgEFHhuqjCrt/Xoi",
      "include_colab_link": true
    },
    "kernelspec": {
      "name": "python3",
      "display_name": "Python 3"
    }
  },
  "cells": [
    {
      "cell_type": "markdown",
      "metadata": {
        "id": "view-in-github",
        "colab_type": "text"
      },
      "source": [
        "<a href=\"https://colab.research.google.com/github/tanujha-web/lets_upgrade_python/blob/master/Untitled1.ipynb\" target=\"_parent\"><img src=\"https://colab.research.google.com/assets/colab-badge.svg\" alt=\"Open In Colab\"/></a>"
      ]
    },
    {
      "cell_type": "code",
      "metadata": {
        "id": "5ZD5vyStTqQK",
        "colab_type": "code",
        "colab": {
          "base_uri": "https://localhost:8080/",
          "height": 34
        },
        "outputId": "28e6df7d-8d24-41cd-ac81-a5f6c7100961"
      },
      "source": [
        "# QUESTION 1 (USING UNITTEST CASE)\n",
        " \n",
        "%%writefile primes.py\n",
        "'''\n",
        "Prime number function\n",
        "'''\n",
        "def is_prime(number):\n",
        "    \"\"\"Return True if *number* is prime.\"\"\"\n",
        "    if number <= 1:\n",
        "        return False\n",
        " \n",
        "    for element in range(2, number):\n",
        "        if number % element == 0:\n",
        "            return False\n",
        " \n",
        "    return True"
      ],
      "execution_count": null,
      "outputs": [
        {
          "output_type": "stream",
          "text": [
            "Overwriting primes.py\n"
          ],
          "name": "stdout"
        }
      ]
    },
    {
      "cell_type": "code",
      "metadata": {
        "id": "onZ4TU_hU0mc",
        "colab_type": "code",
        "colab": {}
      },
      "source": [
        ""
      ],
      "execution_count": null,
      "outputs": []
    },
    {
      "cell_type": "code",
      "metadata": {
        "id": "-WGBRUItT1fF",
        "colab_type": "code",
        "colab": {
          "base_uri": "https://localhost:8080/",
          "height": 34
        },
        "outputId": "456ce3be-c96e-43ba-96d7-1a9d42bb1409"
      },
      "source": [
        "%%writefile prime.py\n",
        " \n",
        "import unittest\n",
        "from primes import is_prime\n",
        " \n",
        "class PrimesTestCase(unittest.TestCase):\n",
        "    \"\"\"Tests for `primes.py`.\"\"\"\n",
        " \n",
        "    def test_is_five_prime(self):\n",
        "        \"\"\"Is five successfully determined to be prime?\"\"\"\n",
        "        self.assertTrue(is_prime(5))\n",
        " \n",
        "if __name__ == '__main__':\n",
        "    unittest.main()"
      ],
      "execution_count": null,
      "outputs": [
        {
          "output_type": "stream",
          "text": [
            "Writing prime.py\n"
          ],
          "name": "stdout"
        }
      ]
    },
    {
      "cell_type": "code",
      "metadata": {
        "id": "2uV6yRuxVsWN",
        "colab_type": "code",
        "colab": {
          "base_uri": "https://localhost:8080/",
          "height": 164
        },
        "outputId": "03898bd5-af99-489e-c1c3-735f7d5ced66"
      },
      "source": [
        "#QUESTION 2\n",
        " \n",
        "def armgen(start,end):\n",
        "for num in range(start,end):\n",
        "  temp=num\n",
        "  sum=0\n",
        "  while temp>0:\n",
        "    digit=temp%10\n",
        "    sum=sum+digit**3\n",
        "    temp=temp//10\n",
        "  if sum==num:\n",
        "    yield num\n",
        "ob = armgen(1,1000)\n",
        "print(\"Generators\")\n",
        "print(\"Armstrong Numbers between 0 and 1000\")\n",
        "for i in ob:\n",
        "  print(i)"
      ],
      "execution_count": 11,
      "outputs": [
        {
          "output_type": "error",
          "ename": "IndentationError",
          "evalue": "ignored",
          "traceback": [
            "\u001b[0;36m  File \u001b[0;32m\"<ipython-input-11-fa1919b14123>\"\u001b[0;36m, line \u001b[0;32m4\u001b[0m\n\u001b[0;31m    for num in range(start,end):\u001b[0m\n\u001b[0m      ^\u001b[0m\n\u001b[0;31mIndentationError\u001b[0m\u001b[0;31m:\u001b[0m expected an indented block\n"
          ]
        }
      ]
    }
  ]
}